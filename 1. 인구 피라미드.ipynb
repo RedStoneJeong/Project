{
 "cells": [
  {
   "cell_type": "markdown",
   "id": "a81550fb",
   "metadata": {
    "ExecuteTime": {
     "end_time": "2023-01-20T08:12:24.914477Z",
     "start_time": "2023-01-20T08:12:24.897679Z"
    }
   },
   "source": [
    "# 1. 인구 피라미드"
   ]
  },
  {
   "cell_type": "code",
   "execution_count": 18,
   "id": "269d811e",
   "metadata": {
    "ExecuteTime": {
     "end_time": "2023-01-20T08:19:38.020233Z",
     "start_time": "2023-01-20T08:19:37.913570Z"
    }
   },
   "outputs": [
    {
     "name": "stderr",
     "output_type": "stream",
     "text": [
      "C:\\Users\\JeongHyeonju\\anaconda3\\lib\\site-packages\\openpyxl\\styles\\stylesheet.py:226: UserWarning: Workbook contains no default style, apply openpyxl's default\n",
      "  warn(\"Workbook contains no default style, apply openpyxl's default\")\n"
     ]
    },
    {
     "data": {
      "text/html": [
       "<div>\n",
       "<style scoped>\n",
       "    .dataframe tbody tr th:only-of-type {\n",
       "        vertical-align: middle;\n",
       "    }\n",
       "\n",
       "    .dataframe tbody tr th {\n",
       "        vertical-align: top;\n",
       "    }\n",
       "\n",
       "    .dataframe thead th {\n",
       "        text-align: right;\n",
       "    }\n",
       "</style>\n",
       "<table border=\"1\" class=\"dataframe\">\n",
       "  <thead>\n",
       "    <tr style=\"text-align: right;\">\n",
       "      <th></th>\n",
       "      <th>0~4세</th>\n",
       "      <th>5~9세</th>\n",
       "      <th>10~14세</th>\n",
       "      <th>15~19세</th>\n",
       "      <th>20~24세</th>\n",
       "      <th>25~29세</th>\n",
       "      <th>30~34세</th>\n",
       "      <th>35~39세</th>\n",
       "      <th>40~44세</th>\n",
       "      <th>45~49세</th>\n",
       "      <th>...</th>\n",
       "      <th>55~59세</th>\n",
       "      <th>60~64세</th>\n",
       "      <th>65~69세</th>\n",
       "      <th>70~74세</th>\n",
       "      <th>75~79세</th>\n",
       "      <th>80~84세</th>\n",
       "      <th>85~89세</th>\n",
       "      <th>90~94세</th>\n",
       "      <th>95~99세</th>\n",
       "      <th>100세 이상</th>\n",
       "    </tr>\n",
       "    <tr>\n",
       "      <th>행정기관</th>\n",
       "      <th></th>\n",
       "      <th></th>\n",
       "      <th></th>\n",
       "      <th></th>\n",
       "      <th></th>\n",
       "      <th></th>\n",
       "      <th></th>\n",
       "      <th></th>\n",
       "      <th></th>\n",
       "      <th></th>\n",
       "      <th></th>\n",
       "      <th></th>\n",
       "      <th></th>\n",
       "      <th></th>\n",
       "      <th></th>\n",
       "      <th></th>\n",
       "      <th></th>\n",
       "      <th></th>\n",
       "      <th></th>\n",
       "      <th></th>\n",
       "      <th></th>\n",
       "    </tr>\n",
       "  </thead>\n",
       "  <tbody>\n",
       "    <tr>\n",
       "      <th>전국</th>\n",
       "      <td>1,196,298</td>\n",
       "      <td>1,215,642</td>\n",
       "      <td>1,627,682</td>\n",
       "      <td>1,878,394</td>\n",
       "      <td>1,692,322</td>\n",
       "      <td>1,798,832</td>\n",
       "      <td>2,058,717</td>\n",
       "      <td>2,151,718</td>\n",
       "      <td>2,346,348</td>\n",
       "      <td>2,171,235</td>\n",
       "      <td>...</td>\n",
       "      <td>1,608,133</td>\n",
       "      <td>1,139,681</td>\n",
       "      <td>885,678</td>\n",
       "      <td>719,811</td>\n",
       "      <td>437,707</td>\n",
       "      <td>194,827</td>\n",
       "      <td>77,608</td>\n",
       "      <td>22,964</td>\n",
       "      <td>4,766</td>\n",
       "      <td>2,691</td>\n",
       "    </tr>\n",
       "    <tr>\n",
       "      <th>서울특별시</th>\n",
       "      <td>216,843</td>\n",
       "      <td>212,597</td>\n",
       "      <td>282,790</td>\n",
       "      <td>344,798</td>\n",
       "      <td>337,696</td>\n",
       "      <td>421,899</td>\n",
       "      <td>475,109</td>\n",
       "      <td>452,897</td>\n",
       "      <td>463,064</td>\n",
       "      <td>412,326</td>\n",
       "      <td>...</td>\n",
       "      <td>334,448</td>\n",
       "      <td>240,777</td>\n",
       "      <td>190,839</td>\n",
       "      <td>139,263</td>\n",
       "      <td>74,020</td>\n",
       "      <td>32,185</td>\n",
       "      <td>13,282</td>\n",
       "      <td>4,663</td>\n",
       "      <td>1,203</td>\n",
       "      <td>907</td>\n",
       "    </tr>\n",
       "    <tr>\n",
       "      <th>부산광역시</th>\n",
       "      <td>67,475</td>\n",
       "      <td>69,137</td>\n",
       "      <td>99,796</td>\n",
       "      <td>128,970</td>\n",
       "      <td>123,263</td>\n",
       "      <td>126,669</td>\n",
       "      <td>138,762</td>\n",
       "      <td>134,439</td>\n",
       "      <td>148,476</td>\n",
       "      <td>145,068</td>\n",
       "      <td>...</td>\n",
       "      <td>137,184</td>\n",
       "      <td>100,614</td>\n",
       "      <td>73,804</td>\n",
       "      <td>55,002</td>\n",
       "      <td>29,768</td>\n",
       "      <td>12,274</td>\n",
       "      <td>4,325</td>\n",
       "      <td>1,141</td>\n",
       "      <td>244</td>\n",
       "      <td>230</td>\n",
       "    </tr>\n",
       "  </tbody>\n",
       "</table>\n",
       "<p>3 rows × 21 columns</p>\n",
       "</div>"
      ],
      "text/plain": [
       "              0~4세       5~9세     10~14세     15~19세     20~24세     25~29세  \\\n",
       "행정기관                                                                        \n",
       "전국       1,196,298  1,215,642  1,627,682  1,878,394  1,692,322  1,798,832   \n",
       "서울특별시      216,843    212,597    282,790    344,798    337,696    421,899   \n",
       "부산광역시       67,475     69,137     99,796    128,970    123,263    126,669   \n",
       "\n",
       "            30~34세     35~39세     40~44세     45~49세  ...     55~59세  \\\n",
       "행정기관                                                 ...              \n",
       "전국       2,058,717  2,151,718  2,346,348  2,171,235  ...  1,608,133   \n",
       "서울특별시      475,109    452,897    463,064    412,326  ...    334,448   \n",
       "부산광역시      138,762    134,439    148,476    145,068  ...    137,184   \n",
       "\n",
       "            60~64세   65~69세   70~74세   75~79세   80~84세  85~89세  90~94세 95~99세  \\\n",
       "행정기관                                                                            \n",
       "전국       1,139,681  885,678  719,811  437,707  194,827  77,608  22,964  4,766   \n",
       "서울특별시      240,777  190,839  139,263   74,020   32,185  13,282   4,663  1,203   \n",
       "부산광역시      100,614   73,804   55,002   29,768   12,274   4,325   1,141    244   \n",
       "\n",
       "        100세 이상  \n",
       "행정기관             \n",
       "전국        2,691  \n",
       "서울특별시       907  \n",
       "부산광역시       230  \n",
       "\n",
       "[3 rows x 21 columns]"
      ]
     },
     "execution_count": 18,
     "metadata": {},
     "output_type": "execute_result"
    }
   ],
   "source": [
    "import pandas as pd\n",
    "df_m = pd.read_excel('201201_201203_연령별인구현황_월간.xlsx', skiprows=3, index_col='행정기관', usecols='B, E:Y')\n",
    "df_m.head(3)"
   ]
  },
  {
   "cell_type": "code",
   "execution_count": 19,
   "id": "a02a1eb9",
   "metadata": {
    "ExecuteTime": {
     "end_time": "2023-01-20T08:19:44.492342Z",
     "start_time": "2023-01-20T08:19:44.478146Z"
    }
   },
   "outputs": [],
   "source": [
    "df_m.iloc[0] = df_m.iloc[0].str.replace(',', '').astype(int) #1,195,951 > 119591 [정수형]"
   ]
  },
  {
   "cell_type": "code",
   "execution_count": 20,
   "id": "a30d9534",
   "metadata": {
    "ExecuteTime": {
     "end_time": "2023-01-20T08:19:50.340482Z",
     "start_time": "2023-01-20T08:19:50.320975Z"
    }
   },
   "outputs": [
    {
     "data": {
      "text/plain": [
       "0~4세       1196298\n",
       "5~9세       1215642\n",
       "10~14세     1627682\n",
       "15~19세     1878394\n",
       "20~24세     1692322\n",
       "25~29세     1798832\n",
       "30~34세     2058717\n",
       "35~39세     2151718\n",
       "40~44세     2346348\n",
       "45~49세     2171235\n",
       "50~54세     2182972\n",
       "55~59세     1608133\n",
       "60~64세     1139681\n",
       "65~69세      885678\n",
       "70~74세      719811\n",
       "75~79세      437707\n",
       "80~84세      194827\n",
       "85~89세       77608\n",
       "90~94세       22964\n",
       "95~99세        4766\n",
       "100세 이상       2691\n",
       "Name: 전국  , dtype: object"
      ]
     },
     "execution_count": 20,
     "metadata": {},
     "output_type": "execute_result"
    }
   ],
   "source": [
    "df_m.iloc[0]"
   ]
  },
  {
   "cell_type": "code",
   "execution_count": null,
   "id": "ee4f6d4e",
   "metadata": {},
   "outputs": [],
   "source": []
  },
  {
   "cell_type": "code",
   "execution_count": null,
   "id": "ebb5cd21",
   "metadata": {},
   "outputs": [],
   "source": []
  }
 ],
 "metadata": {
  "kernelspec": {
   "display_name": "Python 3 (ipykernel)",
   "language": "python",
   "name": "python3"
  },
  "language_info": {
   "codemirror_mode": {
    "name": "ipython",
    "version": 3
   },
   "file_extension": ".py",
   "mimetype": "text/x-python",
   "name": "python",
   "nbconvert_exporter": "python",
   "pygments_lexer": "ipython3",
   "version": "3.9.7"
  },
  "toc": {
   "base_numbering": 1,
   "nav_menu": {},
   "number_sections": true,
   "sideBar": true,
   "skip_h1_title": false,
   "title_cell": "Table of Contents",
   "title_sidebar": "Contents",
   "toc_cell": false,
   "toc_position": {},
   "toc_section_display": true,
   "toc_window_display": false
  }
 },
 "nbformat": 4,
 "nbformat_minor": 5
}

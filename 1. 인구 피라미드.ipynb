{
 "cells": [
  {
   "cell_type": "markdown",
   "id": "a81550fb",
   "metadata": {
    "ExecuteTime": {
     "end_time": "2023-01-20T08:12:24.914477Z",
     "start_time": "2023-01-20T08:12:24.897679Z"
    }
   },
   "source": [
    "# 1. 인구 피라미드"
   ]
  },
  {
   "cell_type": "markdown",
   "id": "c37abb7c",
   "metadata": {
    "ExecuteTime": {
     "end_time": "2023-01-25T05:49:44.474058Z",
     "start_time": "2023-01-25T05:49:44.470033Z"
    }
   },
   "source": [
    "## 남자 데이터 정의"
   ]
  },
  {
   "cell_type": "code",
   "execution_count": 1,
   "id": "269d811e",
   "metadata": {
    "ExecuteTime": {
     "end_time": "2023-01-25T06:57:44.101823Z",
     "start_time": "2023-01-25T06:57:34.353608Z"
    },
    "scrolled": true
   },
   "outputs": [
    {
     "name": "stderr",
     "output_type": "stream",
     "text": [
      "C:\\Users\\JeongHyeonju\\anaconda3\\lib\\site-packages\\openpyxl\\styles\\stylesheet.py:226: UserWarning: Workbook contains no default style, apply openpyxl's default\n",
      "  warn(\"Workbook contains no default style, apply openpyxl's default\")\n"
     ]
    },
    {
     "data": {
      "text/html": [
       "<div>\n",
       "<style scoped>\n",
       "    .dataframe tbody tr th:only-of-type {\n",
       "        vertical-align: middle;\n",
       "    }\n",
       "\n",
       "    .dataframe tbody tr th {\n",
       "        vertical-align: top;\n",
       "    }\n",
       "\n",
       "    .dataframe thead th {\n",
       "        text-align: right;\n",
       "    }\n",
       "</style>\n",
       "<table border=\"1\" class=\"dataframe\">\n",
       "  <thead>\n",
       "    <tr style=\"text-align: right;\">\n",
       "      <th></th>\n",
       "      <th>0~4세</th>\n",
       "      <th>5~9세</th>\n",
       "      <th>10~14세</th>\n",
       "      <th>15~19세</th>\n",
       "      <th>20~24세</th>\n",
       "      <th>25~29세</th>\n",
       "      <th>30~34세</th>\n",
       "      <th>35~39세</th>\n",
       "      <th>40~44세</th>\n",
       "      <th>45~49세</th>\n",
       "      <th>...</th>\n",
       "      <th>55~59세</th>\n",
       "      <th>60~64세</th>\n",
       "      <th>65~69세</th>\n",
       "      <th>70~74세</th>\n",
       "      <th>75~79세</th>\n",
       "      <th>80~84세</th>\n",
       "      <th>85~89세</th>\n",
       "      <th>90~94세</th>\n",
       "      <th>95~99세</th>\n",
       "      <th>100세 이상</th>\n",
       "    </tr>\n",
       "    <tr>\n",
       "      <th>행정기관</th>\n",
       "      <th></th>\n",
       "      <th></th>\n",
       "      <th></th>\n",
       "      <th></th>\n",
       "      <th></th>\n",
       "      <th></th>\n",
       "      <th></th>\n",
       "      <th></th>\n",
       "      <th></th>\n",
       "      <th></th>\n",
       "      <th></th>\n",
       "      <th></th>\n",
       "      <th></th>\n",
       "      <th></th>\n",
       "      <th></th>\n",
       "      <th></th>\n",
       "      <th></th>\n",
       "      <th></th>\n",
       "      <th></th>\n",
       "      <th></th>\n",
       "      <th></th>\n",
       "    </tr>\n",
       "  </thead>\n",
       "  <tbody>\n",
       "    <tr>\n",
       "      <th>전국</th>\n",
       "      <td>785,425</td>\n",
       "      <td>1,142,373</td>\n",
       "      <td>1,215,920</td>\n",
       "      <td>1,215,429</td>\n",
       "      <td>1,624,175</td>\n",
       "      <td>1,867,507</td>\n",
       "      <td>1,675,607</td>\n",
       "      <td>1,797,104</td>\n",
       "      <td>2,030,491</td>\n",
       "      <td>2,119,757</td>\n",
       "      <td>...</td>\n",
       "      <td>2,087,512</td>\n",
       "      <td>2,046,089</td>\n",
       "      <td>1,462,656</td>\n",
       "      <td>986,553</td>\n",
       "      <td>696,848</td>\n",
       "      <td>457,975</td>\n",
       "      <td>196,253</td>\n",
       "      <td>49,809</td>\n",
       "      <td>9,042</td>\n",
       "      <td>1,372</td>\n",
       "    </tr>\n",
       "    <tr>\n",
       "      <th>서울특별시</th>\n",
       "      <td>126,059</td>\n",
       "      <td>173,705</td>\n",
       "      <td>188,872</td>\n",
       "      <td>198,819</td>\n",
       "      <td>285,890</td>\n",
       "      <td>398,640</td>\n",
       "      <td>367,125</td>\n",
       "      <td>351,638</td>\n",
       "      <td>361,658</td>\n",
       "      <td>371,713</td>\n",
       "      <td>...</td>\n",
       "      <td>348,512</td>\n",
       "      <td>343,867</td>\n",
       "      <td>263,247</td>\n",
       "      <td>182,384</td>\n",
       "      <td>134,124</td>\n",
       "      <td>83,319</td>\n",
       "      <td>33,205</td>\n",
       "      <td>8,844</td>\n",
       "      <td>1,793</td>\n",
       "      <td>381</td>\n",
       "    </tr>\n",
       "    <tr>\n",
       "      <th>부산광역시</th>\n",
       "      <td>45,023</td>\n",
       "      <td>67,721</td>\n",
       "      <td>68,411</td>\n",
       "      <td>68,668</td>\n",
       "      <td>99,852</td>\n",
       "      <td>115,518</td>\n",
       "      <td>100,304</td>\n",
       "      <td>107,643</td>\n",
       "      <td>126,413</td>\n",
       "      <td>127,096</td>\n",
       "      <td>...</td>\n",
       "      <td>131,866</td>\n",
       "      <td>144,190</td>\n",
       "      <td>114,724</td>\n",
       "      <td>80,220</td>\n",
       "      <td>54,472</td>\n",
       "      <td>32,930</td>\n",
       "      <td>12,164</td>\n",
       "      <td>2,862</td>\n",
       "      <td>468</td>\n",
       "      <td>62</td>\n",
       "    </tr>\n",
       "  </tbody>\n",
       "</table>\n",
       "<p>3 rows × 21 columns</p>\n",
       "</div>"
      ],
      "text/plain": [
       "            0~4세       5~9세     10~14세     15~19세     20~24세     25~29세  \\\n",
       "행정기관                                                                      \n",
       "전국       785,425  1,142,373  1,215,920  1,215,429  1,624,175  1,867,507   \n",
       "서울특별시    126,059    173,705    188,872    198,819    285,890    398,640   \n",
       "부산광역시     45,023     67,721     68,411     68,668     99,852    115,518   \n",
       "\n",
       "            30~34세     35~39세     40~44세     45~49세  ...     55~59세  \\\n",
       "행정기관                                                 ...              \n",
       "전국       1,675,607  1,797,104  2,030,491  2,119,757  ...  2,087,512   \n",
       "서울특별시      367,125    351,638    361,658    371,713  ...    348,512   \n",
       "부산광역시      100,304    107,643    126,413    127,096  ...    131,866   \n",
       "\n",
       "            60~64세     65~69세   70~74세   75~79세   80~84세   85~89세  90~94세  \\\n",
       "행정기관                                                                        \n",
       "전국       2,046,089  1,462,656  986,553  696,848  457,975  196,253  49,809   \n",
       "서울특별시      343,867    263,247  182,384  134,124   83,319   33,205   8,844   \n",
       "부산광역시      144,190    114,724   80,220   54,472   32,930   12,164   2,862   \n",
       "\n",
       "        95~99세 100세 이상  \n",
       "행정기관                    \n",
       "전국       9,042   1,372  \n",
       "서울특별시    1,793     381  \n",
       "부산광역시      468      62  \n",
       "\n",
       "[3 rows x 21 columns]"
      ]
     },
     "execution_count": 1,
     "metadata": {},
     "output_type": "execute_result"
    }
   ],
   "source": [
    "import pandas as pd\n",
    "file_name = '202112_202112_연령별인구현황_월간.xlsx'\n",
    "df_m = pd.read_excel(file_name, skiprows=3, index_col='행정기관', usecols='B, E:Y')\n",
    "df_m.head(3)"
   ]
  },
  {
   "cell_type": "code",
   "execution_count": 2,
   "id": "a02a1eb9",
   "metadata": {
    "ExecuteTime": {
     "end_time": "2023-01-25T06:57:44.241604Z",
     "start_time": "2023-01-25T06:57:44.229628Z"
    }
   },
   "outputs": [],
   "source": [
    "df_m.iloc[0] = df_m.iloc[0].str.replace(',', '').astype(int) #1,195,951 > 119591 [정수형]"
   ]
  },
  {
   "cell_type": "code",
   "execution_count": 3,
   "id": "a30d9534",
   "metadata": {
    "ExecuteTime": {
     "end_time": "2023-01-25T06:57:44.271273Z",
     "start_time": "2023-01-25T06:57:44.247355Z"
    },
    "scrolled": true
   },
   "outputs": [
    {
     "data": {
      "text/plain": [
       "0~4세        785425\n",
       "5~9세       1142373\n",
       "10~14세     1215920\n",
       "15~19세     1215429\n",
       "20~24세     1624175\n",
       "25~29세     1867507\n",
       "30~34세     1675607\n",
       "35~39세     1797104\n",
       "40~44세     2030491\n",
       "45~49세     2119757\n",
       "50~54세     2278787\n",
       "55~59세     2087512\n",
       "60~64세     2046089\n",
       "65~69세     1462656\n",
       "70~74세      986553\n",
       "75~79세      696848\n",
       "80~84세      457975\n",
       "85~89세      196253\n",
       "90~94세       49809\n",
       "95~99세        9042\n",
       "100세 이상       1372\n",
       "Name: 전국  , dtype: object"
      ]
     },
     "execution_count": 3,
     "metadata": {},
     "output_type": "execute_result"
    }
   ],
   "source": [
    "df_m.iloc[0]"
   ]
  },
  {
   "cell_type": "markdown",
   "id": "c932c3ee",
   "metadata": {
    "ExecuteTime": {
     "end_time": "2023-01-25T05:51:37.925485Z",
     "start_time": "2023-01-25T05:51:37.906959Z"
    }
   },
   "source": [
    "## 여자 데이터"
   ]
  },
  {
   "cell_type": "code",
   "execution_count": 4,
   "id": "ebb5cd21",
   "metadata": {
    "ExecuteTime": {
     "end_time": "2023-01-25T06:57:44.456523Z",
     "start_time": "2023-01-25T06:57:44.275260Z"
    }
   },
   "outputs": [
    {
     "name": "stderr",
     "output_type": "stream",
     "text": [
      "C:\\Users\\JeongHyeonju\\anaconda3\\lib\\site-packages\\openpyxl\\styles\\stylesheet.py:226: UserWarning: Workbook contains no default style, apply openpyxl's default\n",
      "  warn(\"Workbook contains no default style, apply openpyxl's default\")\n"
     ]
    },
    {
     "data": {
      "text/html": [
       "<div>\n",
       "<style scoped>\n",
       "    .dataframe tbody tr th:only-of-type {\n",
       "        vertical-align: middle;\n",
       "    }\n",
       "\n",
       "    .dataframe tbody tr th {\n",
       "        vertical-align: top;\n",
       "    }\n",
       "\n",
       "    .dataframe thead th {\n",
       "        text-align: right;\n",
       "    }\n",
       "</style>\n",
       "<table border=\"1\" class=\"dataframe\">\n",
       "  <thead>\n",
       "    <tr style=\"text-align: right;\">\n",
       "      <th></th>\n",
       "      <th>0~4세.1</th>\n",
       "      <th>5~9세.1</th>\n",
       "      <th>10~14세.1</th>\n",
       "      <th>15~19세.1</th>\n",
       "      <th>20~24세.1</th>\n",
       "      <th>25~29세.1</th>\n",
       "      <th>30~34세.1</th>\n",
       "      <th>35~39세.1</th>\n",
       "      <th>40~44세.1</th>\n",
       "      <th>45~49세.1</th>\n",
       "      <th>...</th>\n",
       "      <th>55~59세.1</th>\n",
       "      <th>60~64세.1</th>\n",
       "      <th>65~69세.1</th>\n",
       "      <th>70~74세.1</th>\n",
       "      <th>75~79세.1</th>\n",
       "      <th>80~84세.1</th>\n",
       "      <th>85~89세.1</th>\n",
       "      <th>90~94세.1</th>\n",
       "      <th>95~99세.1</th>\n",
       "      <th>100세 이상.1</th>\n",
       "    </tr>\n",
       "    <tr>\n",
       "      <th>행정기관</th>\n",
       "      <th></th>\n",
       "      <th></th>\n",
       "      <th></th>\n",
       "      <th></th>\n",
       "      <th></th>\n",
       "      <th></th>\n",
       "      <th></th>\n",
       "      <th></th>\n",
       "      <th></th>\n",
       "      <th></th>\n",
       "      <th></th>\n",
       "      <th></th>\n",
       "      <th></th>\n",
       "      <th></th>\n",
       "      <th></th>\n",
       "      <th></th>\n",
       "      <th></th>\n",
       "      <th></th>\n",
       "      <th></th>\n",
       "      <th></th>\n",
       "      <th></th>\n",
       "    </tr>\n",
       "  </thead>\n",
       "  <tbody>\n",
       "    <tr>\n",
       "      <th>전국</th>\n",
       "      <td>745,044</td>\n",
       "      <td>1,087,508</td>\n",
       "      <td>1,148,276</td>\n",
       "      <td>1,129,691</td>\n",
       "      <td>1,497,147</td>\n",
       "      <td>1,667,094</td>\n",
       "      <td>1,540,454</td>\n",
       "      <td>1,710,270</td>\n",
       "      <td>1,962,340</td>\n",
       "      <td>2,054,204</td>\n",
       "      <td>...</td>\n",
       "      <td>2,020,877</td>\n",
       "      <td>2,090,660</td>\n",
       "      <td>1,565,307</td>\n",
       "      <td>1,123,159</td>\n",
       "      <td>908,524</td>\n",
       "      <td>743,850</td>\n",
       "      <td>437,403</td>\n",
       "      <td>167,438</td>\n",
       "      <td>38,255</td>\n",
       "      <td>6,589</td>\n",
       "    </tr>\n",
       "    <tr>\n",
       "      <th>서울특별시</th>\n",
       "      <td>118,479</td>\n",
       "      <td>165,440</td>\n",
       "      <td>179,007</td>\n",
       "      <td>189,438</td>\n",
       "      <td>317,187</td>\n",
       "      <td>420,560</td>\n",
       "      <td>368,876</td>\n",
       "      <td>351,640</td>\n",
       "      <td>367,908</td>\n",
       "      <td>379,501</td>\n",
       "      <td>...</td>\n",
       "      <td>356,790</td>\n",
       "      <td>378,795</td>\n",
       "      <td>300,013</td>\n",
       "      <td>214,185</td>\n",
       "      <td>165,107</td>\n",
       "      <td>115,819</td>\n",
       "      <td>62,666</td>\n",
       "      <td>24,971</td>\n",
       "      <td>6,127</td>\n",
       "      <td>1,262</td>\n",
       "    </tr>\n",
       "    <tr>\n",
       "      <th>부산광역시</th>\n",
       "      <td>42,755</td>\n",
       "      <td>64,112</td>\n",
       "      <td>64,886</td>\n",
       "      <td>64,140</td>\n",
       "      <td>94,834</td>\n",
       "      <td>105,345</td>\n",
       "      <td>94,194</td>\n",
       "      <td>103,159</td>\n",
       "      <td>122,810</td>\n",
       "      <td>126,072</td>\n",
       "      <td>...</td>\n",
       "      <td>138,910</td>\n",
       "      <td>160,581</td>\n",
       "      <td>129,383</td>\n",
       "      <td>94,891</td>\n",
       "      <td>68,545</td>\n",
       "      <td>51,694</td>\n",
       "      <td>27,003</td>\n",
       "      <td>10,005</td>\n",
       "      <td>2,122</td>\n",
       "      <td>340</td>\n",
       "    </tr>\n",
       "  </tbody>\n",
       "</table>\n",
       "<p>3 rows × 21 columns</p>\n",
       "</div>"
      ],
      "text/plain": [
       "          0~4세.1     5~9세.1   10~14세.1   15~19세.1   20~24세.1   25~29세.1  \\\n",
       "행정기관                                                                      \n",
       "전국       745,044  1,087,508  1,148,276  1,129,691  1,497,147  1,667,094   \n",
       "서울특별시    118,479    165,440    179,007    189,438    317,187    420,560   \n",
       "부산광역시     42,755     64,112     64,886     64,140     94,834    105,345   \n",
       "\n",
       "          30~34세.1   35~39세.1   40~44세.1   45~49세.1  ...   55~59세.1  \\\n",
       "행정기관                                                 ...              \n",
       "전국       1,540,454  1,710,270  1,962,340  2,054,204  ...  2,020,877   \n",
       "서울특별시      368,876    351,640    367,908    379,501  ...    356,790   \n",
       "부산광역시       94,194    103,159    122,810    126,072  ...    138,910   \n",
       "\n",
       "          60~64세.1   65~69세.1   70~74세.1 75~79세.1 80~84세.1 85~89세.1 90~94세.1  \\\n",
       "행정기관                                                                           \n",
       "전국       2,090,660  1,565,307  1,123,159  908,524  743,850  437,403  167,438   \n",
       "서울특별시      378,795    300,013    214,185  165,107  115,819   62,666   24,971   \n",
       "부산광역시      160,581    129,383     94,891   68,545   51,694   27,003   10,005   \n",
       "\n",
       "        95~99세.1 100세 이상.1  \n",
       "행정기관                        \n",
       "전국        38,255     6,589  \n",
       "서울특별시      6,127     1,262  \n",
       "부산광역시      2,122       340  \n",
       "\n",
       "[3 rows x 21 columns]"
      ]
     },
     "execution_count": 4,
     "metadata": {},
     "output_type": "execute_result"
    }
   ],
   "source": [
    "df_w = pd.read_excel(file_name, skiprows=3, index_col='행정기관', usecols='B, AB:AV')\n",
    "df_w.head(3)\n",
    "\n",
    "# .1이 생긴 이유 > 남자 데이터에서도 중복되기 때문에 > 컬럼명을 맞출 필요가 있음"
   ]
  },
  {
   "cell_type": "code",
   "execution_count": 5,
   "id": "051c4aea",
   "metadata": {
    "ExecuteTime": {
     "end_time": "2023-01-25T06:57:44.487202Z",
     "start_time": "2023-01-25T06:57:44.461600Z"
    }
   },
   "outputs": [
    {
     "data": {
      "text/plain": [
       "Index(['0~4세', '5~9세', '10~14세', '15~19세', '20~24세', '25~29세', '30~34세',\n",
       "       '35~39세', '40~44세', '45~49세', '50~54세', '55~59세', '60~64세', '65~69세',\n",
       "       '70~74세', '75~79세', '80~84세', '85~89세', '90~94세', '95~99세', '100세 이상'],\n",
       "      dtype='object')"
      ]
     },
     "execution_count": 5,
     "metadata": {},
     "output_type": "execute_result"
    }
   ],
   "source": [
    "df_m.columns"
   ]
  },
  {
   "cell_type": "code",
   "execution_count": 6,
   "id": "039d8730",
   "metadata": {
    "ExecuteTime": {
     "end_time": "2023-01-25T06:57:44.517905Z",
     "start_time": "2023-01-25T06:57:44.491227Z"
    }
   },
   "outputs": [
    {
     "data": {
      "text/plain": [
       "Index(['0~4세.1', '5~9세.1', '10~14세.1', '15~19세.1', '20~24세.1', '25~29세.1',\n",
       "       '30~34세.1', '35~39세.1', '40~44세.1', '45~49세.1', '50~54세.1', '55~59세.1',\n",
       "       '60~64세.1', '65~69세.1', '70~74세.1', '75~79세.1', '80~84세.1', '85~89세.1',\n",
       "       '90~94세.1', '95~99세.1', '100세 이상.1'],\n",
       "      dtype='object')"
      ]
     },
     "execution_count": 6,
     "metadata": {},
     "output_type": "execute_result"
    }
   ],
   "source": [
    "df_w.columns"
   ]
  },
  {
   "cell_type": "code",
   "execution_count": 7,
   "id": "873b5bb4",
   "metadata": {
    "ExecuteTime": {
     "end_time": "2023-01-25T06:57:44.549655Z",
     "start_time": "2023-01-25T06:57:44.523440Z"
    }
   },
   "outputs": [
    {
     "data": {
      "text/plain": [
       "Index(['0~4세', '5~9세', '10~14세', '15~19세', '20~24세', '25~29세', '30~34세',\n",
       "       '35~39세', '40~44세', '45~49세', '50~54세', '55~59세', '60~64세', '65~69세',\n",
       "       '70~74세', '75~79세', '80~84세', '85~89세', '90~94세', '95~99세', '100세 이상'],\n",
       "      dtype='object')"
      ]
     },
     "execution_count": 7,
     "metadata": {},
     "output_type": "execute_result"
    }
   ],
   "source": [
    "df_w.columns = df_m.columns\n",
    "df_w.columns"
   ]
  },
  {
   "cell_type": "code",
   "execution_count": 8,
   "id": "73db002b",
   "metadata": {
    "ExecuteTime": {
     "end_time": "2023-01-25T06:57:44.579568Z",
     "start_time": "2023-01-25T06:57:44.556414Z"
    }
   },
   "outputs": [
    {
     "data": {
      "text/plain": [
       "0~4세        745044\n",
       "5~9세       1087508\n",
       "10~14세     1148276\n",
       "15~19세     1129691\n",
       "20~24세     1497147\n",
       "25~29세     1667094\n",
       "30~34세     1540454\n",
       "35~39세     1710270\n",
       "40~44세     1962340\n",
       "45~49세     2054204\n",
       "50~54세     2248035\n",
       "55~59세     2020877\n",
       "60~64세     2090660\n",
       "65~69세     1565307\n",
       "70~74세     1123159\n",
       "75~79세      908524\n",
       "80~84세      743850\n",
       "85~89세      437403\n",
       "90~94세      167438\n",
       "95~99세       38255\n",
       "100세 이상       6589\n",
       "Name: 전국  , dtype: object"
      ]
     },
     "execution_count": 8,
     "metadata": {},
     "output_type": "execute_result"
    }
   ],
   "source": [
    "df_w.iloc[0] = df_w.iloc[0].str.replace(',', '').astype(int) #1,195,951 > 119591 [정수형]\n",
    "df_w.iloc[0]"
   ]
  },
  {
   "cell_type": "markdown",
   "id": "12b66818",
   "metadata": {
    "ExecuteTime": {
     "end_time": "2023-01-25T05:56:46.468849Z",
     "start_time": "2023-01-25T05:56:46.458108Z"
    }
   },
   "source": [
    "## Data Visualization"
   ]
  },
  {
   "cell_type": "code",
   "execution_count": 9,
   "id": "4a6e75af",
   "metadata": {
    "ExecuteTime": {
     "end_time": "2023-01-25T06:57:46.645860Z",
     "start_time": "2023-01-25T06:57:44.587033Z"
    }
   },
   "outputs": [],
   "source": [
    "import matplotlib.pyplot as plt\n",
    "import matplotlib\n",
    "matplotlib.rcParams['font.family'] = 'Malgun Gothic'\n",
    "matplotlib.rcParams['font.size'] = 15\n",
    "matplotlib.rcParams['axes.unicode_minus'] = False"
   ]
  },
  {
   "cell_type": "code",
   "execution_count": 10,
   "id": "78f1958c",
   "metadata": {
    "ExecuteTime": {
     "end_time": "2023-01-25T06:57:48.237589Z",
     "start_time": "2023-01-25T06:57:46.657074Z"
    }
   },
   "outputs": [
    {
     "data": {
      "image/png": "[encoded data removed]",
      "text/plain": [
       "<Figure size 720x504 with 1 Axes>"
      ]
     },
     "metadata": {
      "needs_background": "light"
     },
     "output_type": "display_data"
    }
   ],
   "source": [
    "plt.figure(figsize=(10, 7))\n",
    "plt.barh(df_m.columns, -df_m.iloc[0] // 1000) # 단위: 1,000\n",
    "plt.barh(df_w.columns, df_w.iloc[0] // 1000)\n",
    "plt.title('2021 대한민국 인구 피라미드')\n",
    "plt.savefig('2021_인구피라미드.png', dpi=100)\n",
    "plt.show()"
   ]
  }
 ],
 "metadata": {
  "kernelspec": {
   "display_name": "Python 3 (ipykernel)",
   "language": "python",
   "name": "python3"
  },
  "language_info": {
   "codemirror_mode": {
    "name": "ipython",
    "version": 3
   },
   "file_extension": ".py",
   "mimetype": "text/x-python",
   "name": "python",
   "nbconvert_exporter": "python",
   "pygments_lexer": "ipython3",
   "version": "3.9.7"
  },
  "toc": {
   "base_numbering": 1,
   "nav_menu": {},
   "number_sections": true,
   "sideBar": true,
   "skip_h1_title": false,
   "title_cell": "Table of Contents",
   "title_sidebar": "Contents",
   "toc_cell": false,
   "toc_position": {},
   "toc_section_display": true,
   "toc_window_display": false
  }
 },
 "nbformat": 4,
 "nbformat_minor": 5
}

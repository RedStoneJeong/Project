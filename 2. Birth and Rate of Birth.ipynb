{
 "cells": [
  {
   "cell_type": "markdown",
   "id": "b2556f42",
   "metadata": {
    "ExecuteTime": {
     "end_time": "2023-01-25T07:06:05.507675Z",
     "start_time": "2023-01-25T07:06:05.485659Z"
    }
   },
   "source": [
    "# 2. 출생아 수 및 합계출산율\n",
    "- 출생율 : 가임기 여성이 낳을 수 있는 아이"
   ]
  },
  {
   "cell_type": "code",
   "execution_count": 2,
   "id": "afd4fed2",
   "metadata": {
    "ExecuteTime": {
     "end_time": "2023-01-25T07:08:26.946682Z",
     "start_time": "2023-01-25T07:08:23.866347Z"
    }
   },
   "outputs": [],
   "source": [
    "import pandas as pd"
   ]
  },
  {
   "cell_type": "code",
   "execution_count": 4,
   "id": "8fa72a7d",
   "metadata": {
    "ExecuteTime": {
     "end_time": "2023-01-25T07:10:58.714676Z",
     "start_time": "2023-01-25T07:10:55.039353Z"
    }
   },
   "outputs": [
    {
     "name": "stderr",
     "output_type": "stream",
     "text": [
      "C:\\Users\\JeongHyeonju\\anaconda3\\lib\\site-packages\\openpyxl\\styles\\stylesheet.py:226: UserWarning: Workbook contains no default style, apply openpyxl's default\n",
      "  warn(\"Workbook contains no default style, apply openpyxl's default\")\n"
     ]
    },
    {
     "data": {
      "text/html": [
       "<div>\n",
       "<style scoped>\n",
       "    .dataframe tbody tr th:only-of-type {\n",
       "        vertical-align: middle;\n",
       "    }\n",
       "\n",
       "    .dataframe tbody tr th {\n",
       "        vertical-align: top;\n",
       "    }\n",
       "\n",
       "    .dataframe thead th {\n",
       "        text-align: right;\n",
       "    }\n",
       "</style>\n",
       "<table border=\"1\" class=\"dataframe\">\n",
       "  <thead>\n",
       "    <tr style=\"text-align: right;\">\n",
       "      <th></th>\n",
       "      <th>2012</th>\n",
       "      <th>2013</th>\n",
       "      <th>2014</th>\n",
       "      <th>2015</th>\n",
       "      <th>2016</th>\n",
       "      <th>2017</th>\n",
       "      <th>2018</th>\n",
       "      <th>2019</th>\n",
       "      <th>2020</th>\n",
       "      <th>2021</th>\n",
       "    </tr>\n",
       "  </thead>\n",
       "  <tbody>\n",
       "    <tr>\n",
       "      <th>출생아 수</th>\n",
       "      <td>484.600</td>\n",
       "      <td>436.500</td>\n",
       "      <td>435.400</td>\n",
       "      <td>438.400</td>\n",
       "      <td>406.200</td>\n",
       "      <td>357.800</td>\n",
       "      <td>326.800</td>\n",
       "      <td>302.700</td>\n",
       "      <td>272.300</td>\n",
       "      <td>260.600</td>\n",
       "    </tr>\n",
       "    <tr>\n",
       "      <th>합계 출산율</th>\n",
       "      <td>1.297</td>\n",
       "      <td>1.187</td>\n",
       "      <td>1.205</td>\n",
       "      <td>1.239</td>\n",
       "      <td>1.172</td>\n",
       "      <td>1.052</td>\n",
       "      <td>0.977</td>\n",
       "      <td>0.918</td>\n",
       "      <td>0.837</td>\n",
       "      <td>0.808</td>\n",
       "    </tr>\n",
       "  </tbody>\n",
       "</table>\n",
       "</div>"
      ],
      "text/plain": [
       "           2012     2013     2014     2015     2016     2017     2018  \\\n",
       "출생아 수   484.600  436.500  435.400  438.400  406.200  357.800  326.800   \n",
       "합계 출산율    1.297    1.187    1.205    1.239    1.172    1.052    0.977   \n",
       "\n",
       "           2019     2020     2021  \n",
       "출생아 수   302.700  272.300  260.600  \n",
       "합계 출산율    0.918    0.837    0.808  "
      ]
     },
     "execution_count": 4,
     "metadata": {},
     "output_type": "execute_result"
    }
   ],
   "source": [
    "file_name = '142801_20230125160659453_excel.xlsx'\n",
    "df = pd.read_excel(file_name, skiprows=2, nrows=2, index_col=0)\n",
    "df"
   ]
  },
  {
   "cell_type": "code",
   "execution_count": 6,
   "id": "138a5f88",
   "metadata": {
    "ExecuteTime": {
     "end_time": "2023-01-25T07:11:49.999472Z",
     "start_time": "2023-01-25T07:11:49.984156Z"
    }
   },
   "outputs": [
    {
     "data": {
      "text/plain": [
       "Index(['출생아 수', '합계 출산율'], dtype='object')"
      ]
     },
     "execution_count": 6,
     "metadata": {},
     "output_type": "execute_result"
    }
   ],
   "source": [
    "df.index"
   ]
  },
  {
   "cell_type": "code",
   "execution_count": 7,
   "id": "d7641c38",
   "metadata": {
    "ExecuteTime": {
     "end_time": "2023-01-25T07:12:03.822460Z",
     "start_time": "2023-01-25T07:12:03.808612Z"
    }
   },
   "outputs": [
    {
     "data": {
      "text/plain": [
       "array(['출생아\\xa0수', '합계\\xa0출산율'], dtype=object)"
      ]
     },
     "execution_count": 7,
     "metadata": {},
     "output_type": "execute_result"
    }
   ],
   "source": [
    "df.index.values #유니코드의 종류로 띄어쓰기를 의미함"
   ]
  },
  {
   "cell_type": "code",
   "execution_count": 10,
   "id": "cf601413",
   "metadata": {
    "ExecuteTime": {
     "end_time": "2023-01-25T07:13:40.184667Z",
     "start_time": "2023-01-25T07:13:40.172525Z"
    }
   },
   "outputs": [],
   "source": [
    "df.rename(index={'출생아\\xa0수':'출생아 수','합계\\xa0출산율':'합계 출산율'}, inplace=True)"
   ]
  },
  {
   "cell_type": "code",
   "execution_count": 11,
   "id": "f7d0b260",
   "metadata": {
    "ExecuteTime": {
     "end_time": "2023-01-25T07:13:43.171193Z",
     "start_time": "2023-01-25T07:13:43.134288Z"
    }
   },
   "outputs": [
    {
     "data": {
      "text/html": [
       "<div>\n",
       "<style scoped>\n",
       "    .dataframe tbody tr th:only-of-type {\n",
       "        vertical-align: middle;\n",
       "    }\n",
       "\n",
       "    .dataframe tbody tr th {\n",
       "        vertical-align: top;\n",
       "    }\n",
       "\n",
       "    .dataframe thead th {\n",
       "        text-align: right;\n",
       "    }\n",
       "</style>\n",
       "<table border=\"1\" class=\"dataframe\">\n",
       "  <thead>\n",
       "    <tr style=\"text-align: right;\">\n",
       "      <th></th>\n",
       "      <th>2012</th>\n",
       "      <th>2013</th>\n",
       "      <th>2014</th>\n",
       "      <th>2015</th>\n",
       "      <th>2016</th>\n",
       "      <th>2017</th>\n",
       "      <th>2018</th>\n",
       "      <th>2019</th>\n",
       "      <th>2020</th>\n",
       "      <th>2021</th>\n",
       "    </tr>\n",
       "  </thead>\n",
       "  <tbody>\n",
       "    <tr>\n",
       "      <th>출생아 수</th>\n",
       "      <td>484.600</td>\n",
       "      <td>436.500</td>\n",
       "      <td>435.400</td>\n",
       "      <td>438.400</td>\n",
       "      <td>406.200</td>\n",
       "      <td>357.800</td>\n",
       "      <td>326.800</td>\n",
       "      <td>302.700</td>\n",
       "      <td>272.300</td>\n",
       "      <td>260.600</td>\n",
       "    </tr>\n",
       "    <tr>\n",
       "      <th>합계 출산율</th>\n",
       "      <td>1.297</td>\n",
       "      <td>1.187</td>\n",
       "      <td>1.205</td>\n",
       "      <td>1.239</td>\n",
       "      <td>1.172</td>\n",
       "      <td>1.052</td>\n",
       "      <td>0.977</td>\n",
       "      <td>0.918</td>\n",
       "      <td>0.837</td>\n",
       "      <td>0.808</td>\n",
       "    </tr>\n",
       "  </tbody>\n",
       "</table>\n",
       "</div>"
      ],
      "text/plain": [
       "           2012     2013     2014     2015     2016     2017     2018  \\\n",
       "출생아 수   484.600  436.500  435.400  438.400  406.200  357.800  326.800   \n",
       "합계 출산율    1.297    1.187    1.205    1.239    1.172    1.052    0.977   \n",
       "\n",
       "           2019     2020     2021  \n",
       "출생아 수   302.700  272.300  260.600  \n",
       "합계 출산율    0.918    0.837    0.808  "
      ]
     },
     "execution_count": 11,
     "metadata": {},
     "output_type": "execute_result"
    }
   ],
   "source": [
    "df"
   ]
  },
  {
   "cell_type": "code",
   "execution_count": 12,
   "id": "ab1875ad",
   "metadata": {
    "ExecuteTime": {
     "end_time": "2023-01-25T07:13:48.549017Z",
     "start_time": "2023-01-25T07:13:48.523182Z"
    }
   },
   "outputs": [
    {
     "data": {
      "text/plain": [
       "array(['출생아 수', '합계 출산율'], dtype=object)"
      ]
     },
     "execution_count": 12,
     "metadata": {},
     "output_type": "execute_result"
    }
   ],
   "source": [
    "df.index.values"
   ]
  },
  {
   "cell_type": "code",
   "execution_count": 13,
   "id": "31cfbf6b",
   "metadata": {
    "ExecuteTime": {
     "end_time": "2023-01-25T07:14:03.860887Z",
     "start_time": "2023-01-25T07:14:03.832655Z"
    }
   },
   "outputs": [
    {
     "data": {
      "text/plain": [
       "2012    484.6\n",
       "2013    436.5\n",
       "2014    435.4\n",
       "2015    438.4\n",
       "2016    406.2\n",
       "2017    357.8\n",
       "2018    326.8\n",
       "2019    302.7\n",
       "2020    272.3\n",
       "2021    260.6\n",
       "Name: 출생아 수, dtype: float64"
      ]
     },
     "execution_count": 13,
     "metadata": {},
     "output_type": "execute_result"
    }
   ],
   "source": [
    "df.loc['출생아 수']"
   ]
  },
  {
   "cell_type": "code",
   "execution_count": 15,
   "id": "920e8f15",
   "metadata": {
    "ExecuteTime": {
     "end_time": "2023-01-25T07:14:34.124270Z",
     "start_time": "2023-01-25T07:14:34.110004Z"
    }
   },
   "outputs": [
    {
     "data": {
      "text/plain": [
       "2012    484.6\n",
       "2013    436.5\n",
       "2014    435.4\n",
       "2015    438.4\n",
       "2016    406.2\n",
       "2017    357.8\n",
       "2018    326.8\n",
       "2019    302.7\n",
       "2020    272.3\n",
       "2021    260.6\n",
       "Name: 출생아 수, dtype: float64"
      ]
     },
     "execution_count": 15,
     "metadata": {},
     "output_type": "execute_result"
    }
   ],
   "source": [
    "df.iloc[0]"
   ]
  },
  {
   "cell_type": "code",
   "execution_count": 16,
   "id": "c9bf7f36",
   "metadata": {
    "ExecuteTime": {
     "end_time": "2023-01-25T07:15:23.215078Z",
     "start_time": "2023-01-25T07:15:23.170344Z"
    }
   },
   "outputs": [
    {
     "data": {
      "text/html": [
       "<div>\n",
       "<style scoped>\n",
       "    .dataframe tbody tr th:only-of-type {\n",
       "        vertical-align: middle;\n",
       "    }\n",
       "\n",
       "    .dataframe tbody tr th {\n",
       "        vertical-align: top;\n",
       "    }\n",
       "\n",
       "    .dataframe thead th {\n",
       "        text-align: right;\n",
       "    }\n",
       "</style>\n",
       "<table border=\"1\" class=\"dataframe\">\n",
       "  <thead>\n",
       "    <tr style=\"text-align: right;\">\n",
       "      <th></th>\n",
       "      <th>2012</th>\n",
       "      <th>2013</th>\n",
       "      <th>2014</th>\n",
       "      <th>2015</th>\n",
       "      <th>2016</th>\n",
       "      <th>2017</th>\n",
       "      <th>2018</th>\n",
       "      <th>2019</th>\n",
       "      <th>2020</th>\n",
       "      <th>2021</th>\n",
       "    </tr>\n",
       "  </thead>\n",
       "  <tbody>\n",
       "    <tr>\n",
       "      <th>출생아 수</th>\n",
       "      <td>484.600</td>\n",
       "      <td>436.500</td>\n",
       "      <td>435.400</td>\n",
       "      <td>438.400</td>\n",
       "      <td>406.200</td>\n",
       "      <td>357.800</td>\n",
       "      <td>326.800</td>\n",
       "      <td>302.700</td>\n",
       "      <td>272.300</td>\n",
       "      <td>260.600</td>\n",
       "    </tr>\n",
       "    <tr>\n",
       "      <th>합계 출산율</th>\n",
       "      <td>1.297</td>\n",
       "      <td>1.187</td>\n",
       "      <td>1.205</td>\n",
       "      <td>1.239</td>\n",
       "      <td>1.172</td>\n",
       "      <td>1.052</td>\n",
       "      <td>0.977</td>\n",
       "      <td>0.918</td>\n",
       "      <td>0.837</td>\n",
       "      <td>0.808</td>\n",
       "    </tr>\n",
       "  </tbody>\n",
       "</table>\n",
       "</div>"
      ],
      "text/plain": [
       "           2012     2013     2014     2015     2016     2017     2018  \\\n",
       "출생아 수   484.600  436.500  435.400  438.400  406.200  357.800  326.800   \n",
       "합계 출산율    1.297    1.187    1.205    1.239    1.172    1.052    0.977   \n",
       "\n",
       "           2019     2020     2021  \n",
       "출생아 수   302.700  272.300  260.600  \n",
       "합계 출산율    0.918    0.837    0.808  "
      ]
     },
     "execution_count": 16,
     "metadata": {},
     "output_type": "execute_result"
    }
   ],
   "source": [
    "df"
   ]
  },
  {
   "cell_type": "code",
   "execution_count": 20,
   "id": "e864dd3a",
   "metadata": {
    "ExecuteTime": {
     "end_time": "2023-01-25T07:16:13.858539Z",
     "start_time": "2023-01-25T07:16:13.831222Z"
    }
   },
   "outputs": [
    {
     "data": {
      "text/html": [
       "<div>\n",
       "<style scoped>\n",
       "    .dataframe tbody tr th:only-of-type {\n",
       "        vertical-align: middle;\n",
       "    }\n",
       "\n",
       "    .dataframe tbody tr th {\n",
       "        vertical-align: top;\n",
       "    }\n",
       "\n",
       "    .dataframe thead th {\n",
       "        text-align: right;\n",
       "    }\n",
       "</style>\n",
       "<table border=\"1\" class=\"dataframe\">\n",
       "  <thead>\n",
       "    <tr style=\"text-align: right;\">\n",
       "      <th></th>\n",
       "      <th>출생아 수</th>\n",
       "      <th>합계 출산율</th>\n",
       "    </tr>\n",
       "  </thead>\n",
       "  <tbody>\n",
       "    <tr>\n",
       "      <th>2012</th>\n",
       "      <td>484.6</td>\n",
       "      <td>1.297</td>\n",
       "    </tr>\n",
       "    <tr>\n",
       "      <th>2013</th>\n",
       "      <td>436.5</td>\n",
       "      <td>1.187</td>\n",
       "    </tr>\n",
       "    <tr>\n",
       "      <th>2014</th>\n",
       "      <td>435.4</td>\n",
       "      <td>1.205</td>\n",
       "    </tr>\n",
       "    <tr>\n",
       "      <th>2015</th>\n",
       "      <td>438.4</td>\n",
       "      <td>1.239</td>\n",
       "    </tr>\n",
       "    <tr>\n",
       "      <th>2016</th>\n",
       "      <td>406.2</td>\n",
       "      <td>1.172</td>\n",
       "    </tr>\n",
       "    <tr>\n",
       "      <th>2017</th>\n",
       "      <td>357.8</td>\n",
       "      <td>1.052</td>\n",
       "    </tr>\n",
       "    <tr>\n",
       "      <th>2018</th>\n",
       "      <td>326.8</td>\n",
       "      <td>0.977</td>\n",
       "    </tr>\n",
       "    <tr>\n",
       "      <th>2019</th>\n",
       "      <td>302.7</td>\n",
       "      <td>0.918</td>\n",
       "    </tr>\n",
       "    <tr>\n",
       "      <th>2020</th>\n",
       "      <td>272.3</td>\n",
       "      <td>0.837</td>\n",
       "    </tr>\n",
       "    <tr>\n",
       "      <th>2021</th>\n",
       "      <td>260.6</td>\n",
       "      <td>0.808</td>\n",
       "    </tr>\n",
       "  </tbody>\n",
       "</table>\n",
       "</div>"
      ],
      "text/plain": [
       "      출생아 수  합계 출산율\n",
       "2012  484.6   1.297\n",
       "2013  436.5   1.187\n",
       "2014  435.4   1.205\n",
       "2015  438.4   1.239\n",
       "2016  406.2   1.172\n",
       "2017  357.8   1.052\n",
       "2018  326.8   0.977\n",
       "2019  302.7   0.918\n",
       "2020  272.3   0.837\n",
       "2021  260.6   0.808"
      ]
     },
     "execution_count": 20,
     "metadata": {},
     "output_type": "execute_result"
    }
   ],
   "source": [
    "df = df.T # 행/열 전환\n",
    "df"
   ]
  },
  {
   "cell_type": "markdown",
   "id": "c554e13d",
   "metadata": {
    "ExecuteTime": {
     "end_time": "2023-01-25T07:16:22.446723Z",
     "start_time": "2023-01-25T07:16:22.435713Z"
    }
   },
   "source": [
    "# 데이터 시각화"
   ]
  },
  {
   "cell_type": "code",
   "execution_count": 22,
   "id": "a92be1dc",
   "metadata": {
    "ExecuteTime": {
     "end_time": "2023-01-25T07:17:42.480074Z",
     "start_time": "2023-01-25T07:17:41.144877Z"
    }
   },
   "outputs": [],
   "source": [
    "import matplotlib.pyplot as plt\n",
    "import matplotlib\n",
    "matplotlib.rcParams['font.family'] = 'Malgun Gothic'\n",
    "matplotlib.rcParams['font.size'] = 15\n",
    "matplotlib.rcParams['axes.unicode_minus'] = False"
   ]
  },
  {
   "cell_type": "code",
   "execution_count": 24,
   "id": "6973b016",
   "metadata": {
    "ExecuteTime": {
     "end_time": "2023-01-25T07:18:47.265133Z",
     "start_time": "2023-01-25T07:18:46.976047Z"
    }
   },
   "outputs": [
    {
     "data": {
      "text/plain": [
       "[<matplotlib.lines.Line2D at 0x19e11e549a0>]"
      ]
     },
     "execution_count": 24,
     "metadata": {},
     "output_type": "execute_result"
    },
    {
     "data": {
      "image/png": "[encoded data removed]",
      "text/plain": [
       "<Figure size 432x288 with 1 Axes>"
      ]
     },
     "metadata": {
      "needs_background": "light"
     },
     "output_type": "display_data"
    }
   ],
   "source": [
    "plt.plot(df.index, df['출생아 수'])\n",
    "plt.plot(df.index, df['합계 출산율'])"
   ]
  },
  {
   "cell_type": "code",
   "execution_count": 44,
   "id": "63efa637",
   "metadata": {
    "ExecuteTime": {
     "end_time": "2023-01-25T07:30:44.303674Z",
     "start_time": "2023-01-25T07:30:43.729232Z"
    }
   },
   "outputs": [
    {
     "data": {
      "text/plain": [
       "[<matplotlib.lines.Line2D at 0x19e14c53f40>]"
      ]
     },
     "execution_count": 44,
     "metadata": {},
     "output_type": "execute_result"
    },
    {
     "data": {
      "image/png": "[encoded data removed]",
      "text/plain": [
       "<Figure size 936x360 with 2 Axes>"
      ]
     },
     "metadata": {
      "needs_background": "light"
     },
     "output_type": "display_data"
    }
   ],
   "source": [
    "fig, ax1 = plt.subplots(figsize = (13, 5))\n",
    "ax1.set_ylabel('출생아 수(천 명)')\n",
    "#y축 범위 정하기\n",
    "ax1.set_ylim(250, 700)\n",
    "#실제 나타날 y축 값\n",
    "ax1.set_yticks([300, 400, 500, 600])\n",
    "ax1.bar(df.index, df['출생아 수'], color='#ff812d')\n",
    "\n",
    "# 출생아 수 그래프 위에 값 표시\n",
    "for idx, val in enumerate(df['출생아 수']):\n",
    "    ax1.text(idx, val + 12, val, ha='center')\n",
    "\n",
    "ax2 = ax1.twinx() #x축을 공유하는 쌍둥이 axis\n",
    "ax2.set_ylabel('합계 출산율(가임여성 1명당 명)')\n",
    "ax2.set_ylim(0, 1.5)\n",
    "ax2.set_yticks([0, 1])\n",
    "ax2.plot(df.index, df['합계 출산율'], color='#ffd100')\n"
   ]
  },
  {
   "cell_type": "code",
   "execution_count": 55,
   "id": "47eb889a",
   "metadata": {
    "ExecuteTime": {
     "end_time": "2023-01-25T07:35:07.620107Z",
     "start_time": "2023-01-25T07:35:06.837365Z"
    }
   },
   "outputs": [
    {
     "data": {
      "image/png": "[encoded data removed]",
      "text/plain": [
       "<Figure size 936x360 with 2 Axes>"
      ]
     },
     "metadata": {
      "needs_background": "light"
     },
     "output_type": "display_data"
    }
   ],
   "source": [
    "fig, ax1 = plt.subplots(figsize = (13, 5))\n",
    "ax1.set_ylabel('출생아 수(천 명)')\n",
    "#y축 범위 정하기\n",
    "ax1.set_ylim(250, 700)\n",
    "#실제 나타날 y축 값\n",
    "ax1.set_yticks([300, 400, 500, 600])\n",
    "ax1.bar(df.index, df['출생아 수'], color='#ff812d')\n",
    "\n",
    "# 출생아 수 그래프 위에 값 표시\n",
    "for idx, val in enumerate(df['출생아 수']):\n",
    "    ax1.text(idx, val + 12, val, ha='center')\n",
    "\n",
    "ax2 = ax1.twinx() #x축을 공유하는 쌍둥이 axis\n",
    "ax2.set_ylabel('합계 출산율(가임여성 1명당 명)')\n",
    "ax2.set_ylim(0, 1.5)\n",
    "ax2.set_yticks([0, 1])\n",
    "ax2.plot(df.index, df['합계 출산율'], color='#ffd100', marker='o', ms=15, lw=5, markeredgecolor='w', markeredgewidth=3)\n",
    "\n",
    "# 합계 출산율 그래프 위에 값 표시\n",
    "for idx, val in enumerate(df['합계 출산율']):\n",
    "    ax2.text(idx, val + 0.08, val, ha='center')"
   ]
  },
  {
   "cell_type": "code",
   "execution_count": 60,
   "id": "1c9e74e9",
   "metadata": {
    "ExecuteTime": {
     "end_time": "2023-01-25T07:39:14.607106Z",
     "start_time": "2023-01-25T07:39:13.773226Z"
    },
    "scrolled": true
   },
   "outputs": [
    {
     "data": {
      "image/png": "[encoded data removed]",
      "text/plain": [
       "<Figure size 936x360 with 2 Axes>"
      ]
     },
     "metadata": {
      "needs_background": "light"
     },
     "output_type": "display_data"
    }
   ],
   "source": [
    "fig, ax1 = plt.subplots(figsize = (13, 5))\n",
    "fig.suptitle('출생아 수 및 합계 출산율')\n",
    "ax1.set_ylabel('출생아 수(천 명)')\n",
    "#y축 범위 정하기\n",
    "ax1.set_ylim(250, 700)\n",
    "#실제 나타날 y축 값\n",
    "ax1.set_yticks([300, 400, 500, 600])\n",
    "ax1.bar(df.index, df['출생아 수'], color='#ff812d')\n",
    "\n",
    "# 출생아 수 그래프 위에 값 표시\n",
    "for idx, val in enumerate(df['출생아 수']):\n",
    "    ax1.text(idx, val + 12, val, ha='center')\n",
    "\n",
    "ax2 = ax1.twinx() #x축을 공유하는 쌍둥이 axis\n",
    "ax2.set_ylabel('합계 출산율(가임여성 1명당 명)')\n",
    "ax2.set_ylim(0, 1.5)\n",
    "ax2.set_yticks([0, 1])\n",
    "ax2.plot(df.index, df['합계 출산율'], color='#ffd100', marker='o', ms=15, lw=5, markeredgecolor='w', markeredgewidth=3)\n",
    "\n",
    "# 합계 출산율 그래프 위에 값 표시\n",
    "for idx, val in enumerate(df['합계 출산율']):\n",
    "    ax2.text(idx, val + 0.08, val, ha='center')\n",
    "    \n",
    "plt.savefig('출생아 수 및 합계출산율.png', dpi=100)"
   ]
  }
 ],
 "metadata": {
  "kernelspec": {
   "display_name": "Python 3 (ipykernel)",
   "language": "python",
   "name": "python3"
  },
  "language_info": {
   "codemirror_mode": {
    "name": "ipython",
    "version": 3
   },
   "file_extension": ".py",
   "mimetype": "text/x-python",
   "name": "python",
   "nbconvert_exporter": "python",
   "pygments_lexer": "ipython3",
   "version": "3.9.7"
  },
  "toc": {
   "base_numbering": 1,
   "nav_menu": {},
   "number_sections": true,
   "sideBar": true,
   "skip_h1_title": false,
   "title_cell": "Table of Contents",
   "title_sidebar": "Contents",
   "toc_cell": false,
   "toc_position": {},
   "toc_section_display": true,
   "toc_window_display": false
  }
 },
 "nbformat": 4,
 "nbformat_minor": 5
}
